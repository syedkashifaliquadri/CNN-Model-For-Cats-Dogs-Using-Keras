{
 "cells": [
  {
   "cell_type": "code",
   "execution_count": 2,
   "metadata": {},
   "outputs": [
    {
     "name": "stdout",
     "output_type": "stream",
     "text": [
      "WARNING:tensorflow:From /home/kashif/anaconda3/lib/python3.7/site-packages/keras/backend/tensorflow_backend.py:4070: The name tf.nn.max_pool is deprecated. Please use tf.nn.max_pool2d instead.\n",
      "\n"
     ]
    },
    {
     "name": "stderr",
     "output_type": "stream",
     "text": [
      "/home/kashif/anaconda3/lib/python3.7/site-packages/ipykernel_launcher.py:25: UserWarning: Update your `Conv2D` call to the Keras 2 API: `Conv2D(32, (3, 3), input_shape=(64, 64, 3..., activation=\"relu\")`\n",
      "/home/kashif/anaconda3/lib/python3.7/site-packages/ipykernel_launcher.py:31: UserWarning: Update your `Conv2D` call to the Keras 2 API: `Conv2D(16, (3, 3), activation=\"relu\")`\n"
     ]
    },
    {
     "name": "stdout",
     "output_type": "stream",
     "text": [
      "WARNING:tensorflow:From /home/kashif/anaconda3/lib/python3.7/site-packages/tensorflow/python/ops/nn_impl.py:180: add_dispatch_support.<locals>.wrapper (from tensorflow.python.ops.array_ops) is deprecated and will be removed in a future version.\n",
      "Instructions for updating:\n",
      "Use tf.where in 2.0, which has the same broadcast rule as np.where\n"
     ]
    }
   ],
   "source": [
    "# importing libraries and packages\n",
    "\n",
    "from keras.models import Sequential\n",
    "from keras.layers import Conv2D\n",
    "from keras.layers import MaxPooling2D\n",
    "from keras.layers import Flatten\n",
    "from keras.layers import Dense\n",
    "\n",
    "\n",
    "\n",
    "\n",
    "# initialising CNN\n",
    "CNN_Classifier = Sequential();\n",
    "\n",
    "#step 1- Convolution Layar\n",
    "CNN_Classifier.add(Conv2D(32,3,3,input_shape=(64,64,3),activation='relu'))\n",
    "\n",
    "#step 2- Pooling Layar\n",
    "CNN_Classifier.add(MaxPooling2D(pool_size=(2,2)))\n",
    "\n",
    "#step 1- Convolution Layar\n",
    "CNN_Classifier.add(Conv2D(16,3,3,activation='relu'))\n",
    "\n",
    "#step 2- Pooling Layar\n",
    "CNN_Classifier.add(MaxPooling2D(pool_size=(2,2)))\n",
    "\n",
    "#step 3- Flatten Layar\n",
    "CNN_Classifier.add(Flatten())\n",
    "\n",
    "#step 4- Fully Connected Layar\n",
    "CNN_Classifier.add(Dense(units=128, activation='relu'))\n",
    "CNN_Classifier.add(Dense(units=1, activation='sigmoid'))\n",
    "\n",
    "\n",
    "#step 5- Compiling\n",
    "CNN_Classifier.compile(optimizer='adam',loss='binary_crossentropy',metrics=['accuracy'])\n",
    "\n",
    "\n",
    "\n",
    "\n"
   ]
  },
  {
   "cell_type": "code",
   "execution_count": 3,
   "metadata": {},
   "outputs": [
    {
     "name": "stdout",
     "output_type": "stream",
     "text": [
      "Found 8000 images belonging to 2 classes.\n",
      "Found 2000 images belonging to 2 classes.\n",
      "WARNING:tensorflow:From /home/kashif/anaconda3/lib/python3.7/site-packages/keras/backend/tensorflow_backend.py:422: The name tf.global_variables is deprecated. Please use tf.compat.v1.global_variables instead.\n",
      "\n",
      "Epoch 1/10\n",
      "7000/7000 [==============================] - 1472s 210ms/step - loss: 0.3884 - accuracy: 0.8134 - val_loss: 0.6194 - val_accuracy: 0.7929\n",
      "Epoch 2/10\n",
      "7000/7000 [==============================] - 1384s 198ms/step - loss: 0.1083 - accuracy: 0.9591 - val_loss: 0.8282 - val_accuracy: 0.7928\n",
      "Epoch 3/10\n",
      "7000/7000 [==============================] - 1415s 202ms/step - loss: 0.0564 - accuracy: 0.9797 - val_loss: 1.9238 - val_accuracy: 0.7772\n",
      "Epoch 4/10\n",
      "7000/7000 [==============================] - 1355s 194ms/step - loss: 0.0402 - accuracy: 0.9859 - val_loss: 2.9405 - val_accuracy: 0.7939\n",
      "Epoch 5/10\n",
      "7000/7000 [==============================] - 1398s 200ms/step - loss: 0.0329 - accuracy: 0.9886 - val_loss: 1.6629 - val_accuracy: 0.7930\n",
      "Epoch 6/10\n",
      "7000/7000 [==============================] - 1377s 197ms/step - loss: 0.0281 - accuracy: 0.9905 - val_loss: 0.8180 - val_accuracy: 0.7844\n",
      "Epoch 7/10\n",
      "7000/7000 [==============================] - 1467s 210ms/step - loss: 0.0252 - accuracy: 0.9915 - val_loss: 1.6716 - val_accuracy: 0.7980\n",
      "Epoch 8/10\n",
      "7000/7000 [==============================] - 1492s 213ms/step - loss: 0.0225 - accuracy: 0.9927 - val_loss: 1.1702 - val_accuracy: 0.8022\n",
      "Epoch 9/10\n",
      "7000/7000 [==============================] - 1546s 221ms/step - loss: 0.0209 - accuracy: 0.9933 - val_loss: 2.7273 - val_accuracy: 0.7979\n",
      "Epoch 10/10\n",
      "7000/7000 [==============================] - 1265s 181ms/step - loss: 0.0188 - accuracy: 0.9939 - val_loss: 1.6604 - val_accuracy: 0.7995\n"
     ]
    },
    {
     "data": {
      "text/plain": [
       "<keras.callbacks.callbacks.History at 0x7f93d00d7490>"
      ]
     },
     "execution_count": 3,
     "metadata": {},
     "output_type": "execute_result"
    }
   ],
   "source": [
    "# Fitting CNN model to the images for cats and dogs\n",
    "\n",
    "from keras.preprocessing.image import ImageDataGenerator\n",
    "\n",
    "train_datagen = ImageDataGenerator(\n",
    "        rescale=1./255,\n",
    "        shear_range=0.2,\n",
    "        zoom_range=0.2,\n",
    "        horizontal_flip=True)\n",
    "\n",
    "test_datagen = ImageDataGenerator(rescale=1./255)\n",
    "\n",
    "training_set = train_datagen.flow_from_directory(\n",
    "        '/home/kashif/DS Work/dataset/training_set',\n",
    "        target_size=(64, 64),\n",
    "        batch_size=32,\n",
    "        class_mode='binary')\n",
    "\n",
    "test_set = test_datagen.flow_from_directory(\n",
    "        '/home/kashif/DS Work/dataset/test_set',\n",
    "        target_size=(64, 64),\n",
    "        batch_size=32,\n",
    "        class_mode='binary')\n",
    "\n",
    "CNN_Classifier.fit_generator(\n",
    "        training_set,\n",
    "        steps_per_epoch=7000,\n",
    "        epochs=10,\n",
    "        validation_data=test_set,\n",
    "        validation_steps=2000)"
   ]
  },
  {
   "cell_type": "code",
   "execution_count": 6,
   "metadata": {},
   "outputs": [
    {
     "name": "stdout",
     "output_type": "stream",
     "text": [
      "dog\n"
     ]
    }
   ],
   "source": [
    "# Prediction for Dog image using our train model\n",
    "\n",
    "import numpy as np\n",
    "from keras.preprocessing import image\n",
    "test_image = image.load_img('/home/kashif/DS Work/dataset/single_prediction/cat_or_dog_1.jpg', target_size = (64,64))\n",
    "test_image = image.img_to_array(test_image)\n",
    "test_image = np.expand_dims(test_image, axis=0)\n",
    "result = CNN_Classifier.predict(test_image)\n",
    "training_set.class_indices\n",
    "if result[0][0] == 1:\n",
    "    prediction = 'dog'\n",
    "    print(prediction)\n",
    "else:\n",
    "    prediction = 'cat'\n",
    "    print(prediction)"
   ]
  },
  {
   "cell_type": "code",
   "execution_count": 7,
   "metadata": {},
   "outputs": [
    {
     "name": "stdout",
     "output_type": "stream",
     "text": [
      "cat\n"
     ]
    }
   ],
   "source": [
    "# Prediction for Cat image using our train model\n",
    "\n",
    "import numpy as np\n",
    "from keras.preprocessing import image\n",
    "test_image = image.load_img('/home/kashif/DS Work/dataset/single_prediction/cat_or_dog_2.jpg', target_size = (64,64))\n",
    "test_image = image.img_to_array(test_image)\n",
    "test_image = np.expand_dims(test_image, axis=0)\n",
    "result = CNN_Classifier.predict(test_image)\n",
    "training_set.class_indices\n",
    "if result[0][0] == 1:\n",
    "    prediction = 'dog'\n",
    "    print(prediction)\n",
    "else:\n",
    "    prediction = 'cat'\n",
    "    print(prediction)"
   ]
  }
 ],
 "metadata": {
  "kernelspec": {
   "display_name": "Python 3",
   "language": "python",
   "name": "python3"
  },
  "language_info": {
   "codemirror_mode": {
    "name": "ipython",
    "version": 3
   },
   "file_extension": ".py",
   "mimetype": "text/x-python",
   "name": "python",
   "nbconvert_exporter": "python",
   "pygments_lexer": "ipython3",
   "version": "3.7.4"
  }
 },
 "nbformat": 4,
 "nbformat_minor": 2
}
